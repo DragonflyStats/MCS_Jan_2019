{
 "cells": [
  {
   "cell_type": "code",
   "execution_count": 1,
   "metadata": {},
   "outputs": [],
   "source": [
    "using Pkg"
   ]
  },
  {
   "cell_type": "code",
   "execution_count": 2,
   "metadata": {},
   "outputs": [
    {
     "name": "stderr",
     "output_type": "stream",
     "text": [
      "┌ Info: Loading DataFrames support into Gadfly.jl\n",
      "└ @ Gadfly /home/kevin/.julia/packages/Gadfly/09PWZ/src/mapping.jl:228\n"
     ]
    }
   ],
   "source": [
    "using DataFrames, Gadfly, MixedModels, RData"
   ]
  },
  {
   "cell_type": "code",
   "execution_count": 6,
   "metadata": {},
   "outputs": [],
   "source": [
    "const dat = Dict(Symbol(k)=>v for (k,v) in \n",
    "    load(joinpath(dirname(pathof(MixedModels)), \"..\", \"test\", \"dat.rda\")));"
   ]
  },
  {
   "cell_type": "code",
   "execution_count": 7,
   "metadata": {},
   "outputs": [
    {
     "data": {
      "text/html": [
       "<table class=\"data-frame\"><thead><tr><th></th><th>variable</th><th>mean</th><th>min</th><th>median</th><th>max</th><th>nunique</th><th>nmissing</th><th>eltype</th></tr><tr><th></th><th>Symbol</th><th>Union…</th><th>Any</th><th>Union…</th><th>Any</th><th>Union…</th><th>Nothing</th><th>DataType</th></tr></thead><tbody><p>3 rows × 8 columns</p><tr><th>1</th><td>Y</td><td>22.9722</td><td>18.0</td><td>23.0</td><td>27.0</td><td></td><td></td><td>Float64</td></tr><tr><th>2</th><td>G</td><td></td><td>a</td><td></td><td>x</td><td>24</td><td></td><td>CategoricalString{UInt8}</td></tr><tr><th>3</th><td>H</td><td></td><td>A</td><td></td><td>F</td><td>6</td><td></td><td>CategoricalString{UInt8}</td></tr></tbody></table>"
      ],
      "text/latex": [
       "\\begin{tabular}{r|cccccccc}\n",
       "\t& variable & mean & min & median & max & nunique & nmissing & eltype\\\\\n",
       "\t\\hline\n",
       "\t& Symbol & Union… & Any & Union… & Any & Union… & Nothing & DataType\\\\\n",
       "\t\\hline\n",
       "\t1 & Y & 22.9722 & 18.0 & 23.0 & 27.0 &  &  & Float64 \\\\\n",
       "\t2 & G &  & a &  & x & 24 &  & CategoricalString\\{UInt8\\} \\\\\n",
       "\t3 & H &  & A &  & F & 6 &  & CategoricalString\\{UInt8\\} \\\\\n",
       "\\end{tabular}\n"
      ],
      "text/plain": [
       "3×8 DataFrame. Omitted printing of 1 columns\n",
       "│ Row │ variable │ mean    │ min  │ median │ max  │ nunique │ nmissing │\n",
       "│     │ \u001b[90mSymbol\u001b[39m   │ \u001b[90mUnion…\u001b[39m  │ \u001b[90mAny\u001b[39m  │ \u001b[90mUnion…\u001b[39m │ \u001b[90mAny\u001b[39m  │ \u001b[90mUnion…\u001b[39m  │ \u001b[90mNothing\u001b[39m  │\n",
       "├─────┼──────────┼─────────┼──────┼────────┼──────┼─────────┼──────────┤\n",
       "│ 1   │ Y        │ 22.9722 │ 18.0 │ 23.0   │ 27.0 │         │          │\n",
       "│ 2   │ G        │         │ a    │        │ x    │ 24      │          │\n",
       "│ 3   │ H        │         │ A    │        │ F    │ 6       │          │"
      ]
     },
     "execution_count": 7,
     "metadata": {},
     "output_type": "execute_result"
    }
   ],
   "source": [
    "describe(dat[:Penicillin])"
   ]
  },
  {
   "cell_type": "code",
   "execution_count": 5,
   "metadata": {},
   "outputs": [
    {
     "ename": "UndefVarError",
     "evalue": "UndefVarError: dat not defined",
     "output_type": "error",
     "traceback": [
      "UndefVarError: dat not defined",
      "",
      "Stacktrace:",
      " [1] top-level scope at In[5]:1"
     ]
    }
   ],
   "source": [
    "freqtable(dat[:Penicillin][:H], dat[:Penicillin][:G])"
   ]
  },
  {
   "cell_type": "code",
   "execution_count": 8,
   "metadata": {},
   "outputs": [
    {
     "data": {
      "text/plain": [
       "Linear mixed model fit by maximum likelihood\n",
       " Formula: Y ~ 1 + (1 | G) + (1 | H)\n",
       "   logLik   -2 logLik     AIC        BIC    \n",
       " -166.09417  332.18835  340.18835  352.06760\n",
       "\n",
       "Variance components:\n",
       "              Column    Variance   Std.Dev. \n",
       " G        (Intercept)  0.71497949 0.8455646\n",
       " H        (Intercept)  3.13519360 1.7706478\n",
       " Residual              0.30242640 0.5499331\n",
       " Number of obs: 144; levels of grouping factors: 24, 6\n",
       "\n",
       "  Fixed-effects parameters:\n",
       "             Estimate Std.Error z value P(>|z|)\n",
       "(Intercept)   22.9722  0.744596 30.8519  <1e-99\n"
      ]
     },
     "execution_count": 8,
     "metadata": {},
     "output_type": "execute_result"
    }
   ],
   "source": [
    "penm = fit(LinearMixedModel, @formula(Y ~ 1 + (1|G) + (1|H)), dat[:Penicillin])"
   ]
  },
  {
   "cell_type": "code",
   "execution_count": null,
   "metadata": {},
   "outputs": [],
   "source": []
  }
 ],
 "metadata": {
  "kernelspec": {
   "display_name": "Julia 1.1.0",
   "language": "julia",
   "name": "julia-1.1"
  },
  "language_info": {
   "file_extension": ".jl",
   "mimetype": "application/julia",
   "name": "julia",
   "version": "1.1.0"
  }
 },
 "nbformat": 4,
 "nbformat_minor": 2
}
